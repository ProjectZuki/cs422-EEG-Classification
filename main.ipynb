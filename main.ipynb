{
 "cells": [
  {
   "cell_type": "code",
   "execution_count": 91,
   "metadata": {},
   "outputs": [],
   "source": [
    "# %pip install tensorflow numpy matplotlib pandas scikit-learn pyarrow"
   ]
  },
  {
   "cell_type": "code",
   "execution_count": 92,
   "metadata": {},
   "outputs": [],
   "source": [
    "def get_EEG_path(id: int) -> str:\n",
    "    return f'./bruh/train_eegs/{id}.parquet'\n",
    "  \n",
    "def get_spec_path(id: int) -> str:\n",
    "    return f'./bruh/train_spectrograms/{id}.parquet'"
   ]
  },
  {
   "cell_type": "code",
   "execution_count": 93,
   "metadata": {},
   "outputs": [],
   "source": [
    "# Data includes:\n",
    "# eeg_id\teeg_sub_id\teeg_label_offset_seconds\t\n",
    "# spectrogram_id\tspectrogram_sub_id\t\n",
    "# spectrogram_label_offset_seconds\t\n",
    "# label_id\tpatient_id\texpert_consensus\t\n",
    "# seizure_vote\tlpd_vote\tgpd_vote\t\n",
    "# lrda_vote\tgrda_vote\tother_vote\n",
    "\n",
    "from pandas import read_csv\n",
    "\n",
    "# Load data\n",
    "data = read_csv('./bruh/bruh.csv')\n",
    "data['eeg_path'] = data['eeg_id'].apply(get_EEG_path)\n",
    "data['spectrogram_path'] = data['spectrogram_id'].apply(get_spec_path)\n",
    "\n",
    "# Get features\n",
    "X_meta = data[['eeg_path', 'spectrogram_path']]\n",
    "\n",
    "# Get labels\n",
    "y = data['expert_consensus']\n"
   ]
  },
  {
   "cell_type": "code",
   "execution_count": 94,
   "metadata": {},
   "outputs": [
    {
     "name": "stdout",
     "output_type": "stream",
     "text": [
      "TRAIN: 140 TEST: 16\n"
     ]
    }
   ],
   "source": [
    "from sklearn.model_selection import StratifiedKFold\n",
    "\n",
    "kfold = StratifiedKFold(n_splits=10, shuffle=True, random_state=42)\n",
    "\n",
    "for train_index, test_index in kfold.split(X_meta, y):\n",
    "    print(\"TRAIN:\", len(train_index), \"TEST:\", len(test_index))\n",
    "    break\n",
    "\n",
    "import numpy as np\n",
    "from pyarrow import parquet\n",
    "\n",
    "# EEG contains:\n",
    "# count, Fp1, F3, C3, P3, F7, T3, T5, O1, Fz, Cz, Pz, Fp2, F4, C4, P4, F8, T4, T6, O2, EKG\n",
    "\n",
    "# Spectrogram contains:\n",
    "# count, time, LL, RL, LP, RP\n",
    "\n",
    "for train_index, test_index in kfold.split(X_meta, y):\n",
    "    \n",
    "    \n",
    "    y_train, y_test = y[train_index], y[test_index]\n",
    "    \n",
    "    break\n",
    "\n",
    "  "
   ]
  }
 ],
 "metadata": {
  "kernelspec": {
   "display_name": "EEG",
   "language": "python",
   "name": "python3"
  },
  "language_info": {
   "codemirror_mode": {
    "name": "ipython",
    "version": 3
   },
   "file_extension": ".py",
   "mimetype": "text/x-python",
   "name": "python",
   "nbconvert_exporter": "python",
   "pygments_lexer": "ipython3",
   "version": "3.11.5"
  }
 },
 "nbformat": 4,
 "nbformat_minor": 2
}
